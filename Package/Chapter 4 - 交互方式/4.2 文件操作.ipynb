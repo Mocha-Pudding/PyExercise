{
 "cells": [
  {
   "cell_type": "markdown",
   "metadata": {},
   "source": [
    "|模式|r|r+|w|w+|a|a+|\n",
    "|:-:|:-:|:-:|:-:|:-:|:-:|\n",
    "|读|+|+||+||+|\n",
    "|写||+|+|+|+|+|\n",
    "|创建|||+|+|+|+|\n",
    "|覆盖|||+|+|||\n",
    "|指针在开始|+|+|+|+|||\n",
    "|指针在结尾|||||+|+|"
   ]
  },
  {
   "cell_type": "code",
   "execution_count": null,
   "metadata": {
    "collapsed": true
   },
   "outputs": [],
   "source": []
  }
 ],
 "metadata": {
  "kernelspec": {
   "display_name": "Python 3",
   "language": "python",
   "name": "python3"
  },
  "language_info": {
   "codemirror_mode": {
    "name": "ipython",
    "version": 3
   },
   "file_extension": ".py",
   "mimetype": "text/x-python",
   "name": "python",
   "nbconvert_exporter": "python",
   "pygments_lexer": "ipython3",
   "version": "3.6.3"
  }
 },
 "nbformat": 4,
 "nbformat_minor": 2
}
