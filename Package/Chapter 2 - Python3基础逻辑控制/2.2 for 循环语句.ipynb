{
 "cells": [
  {
   "cell_type": "markdown",
   "metadata": {},
   "source": [
    "## 语法： for 变量名 in 集合： …"
   ]
  },
  {
   "cell_type": "code",
   "execution_count": 6,
   "metadata": {
    "collapsed": true
   },
   "outputs": [],
   "source": [
    "a = [1,2,4,56,786,898,5,897,9,45,34,33,12,2345,24,11,23,3456,213,3]"
   ]
  },
  {
   "cell_type": "code",
   "execution_count": 7,
   "metadata": {},
   "outputs": [
    {
     "data": {
      "text/plain": [
       "20"
      ]
     },
     "execution_count": 7,
     "metadata": {},
     "output_type": "execute_result"
    }
   ],
   "source": [
    "len(a)"
   ]
  },
  {
   "cell_type": "code",
   "execution_count": 11,
   "metadata": {
    "collapsed": true
   },
   "outputs": [
    {
     "name": "stdout",
     "output_type": "stream",
     "text": [
      "1 [1, 2, 4, 56, 786, 898, 5, 897, 9, 45, 34, 33, 12, 2345, 24, 11, 23, 3456, 213, 3]\n",
      "2 [1, 2, 4, 56, 786, 898, 5, 897, 9, 45, 34, 33, 12, 2345, 24, 11, 23, 3456, 213, 3]\n",
      "4 [1, 2, 4, 56, 786, 898, 5, 897, 9, 45, 34, 33, 12, 2345, 24, 11, 23, 3456, 213, 3]\n",
      "56 [1, 2, 4, 56, 786, 898, 5, 897, 9, 45, 34, 33, 12, 2345, 24, 11, 23, 3456, 213, 3]\n",
      "786 [1, 2, 4, 56, 786, 898, 5, 897, 9, 45, 34, 33, 12, 2345, 24, 11, 23, 3456, 213, 3]\n",
      "898 [1, 2, 4, 56, 786, 898, 5, 897, 9, 45, 34, 33, 12, 2345, 24, 11, 23, 3456, 213, 3]\n",
      "5 [1, 2, 4, 56, 786, 898, 5, 897, 9, 45, 34, 33, 12, 2345, 24, 11, 23, 3456, 213, 3]\n",
      "897 [1, 2, 4, 56, 786, 898, 5, 897, 9, 45, 34, 33, 12, 2345, 24, 11, 23, 3456, 213, 3]\n",
      "9 [1, 2, 4, 56, 786, 898, 5, 897, 9, 45, 34, 33, 12, 2345, 24, 11, 23, 3456, 213, 3]\n",
      "45 [1, 2, 4, 56, 786, 898, 5, 897, 9, 45, 34, 33, 12, 2345, 24, 11, 23, 3456, 213, 3]\n",
      "34 [1, 2, 4, 56, 786, 898, 5, 897, 9, 45, 34, 33, 12, 2345, 24, 11, 23, 3456, 213, 3]\n",
      "33 [1, 2, 4, 56, 786, 898, 5, 897, 9, 45, 34, 33, 12, 2345, 24, 11, 23, 3456, 213, 3]\n",
      "12 [1, 2, 4, 56, 786, 898, 5, 897, 9, 45, 34, 33, 12, 2345, 24, 11, 23, 3456, 213, 3]\n",
      "2345 [1, 2, 4, 56, 786, 898, 5, 897, 9, 45, 34, 33, 12, 2345, 24, 11, 23, 3456, 213, 3]\n",
      "24 [1, 2, 4, 56, 786, 898, 5, 897, 9, 45, 34, 33, 12, 2345, 24, 11, 23, 3456, 213, 3]\n",
      "11 [1, 2, 4, 56, 786, 898, 5, 897, 9, 45, 34, 33, 12, 2345, 24, 11, 23, 3456, 213, 3]\n",
      "23 [1, 2, 4, 56, 786, 898, 5, 897, 9, 45, 34, 33, 12, 2345, 24, 11, 23, 3456, 213, 3]\n",
      "3456 [1, 2, 4, 56, 786, 898, 5, 897, 9, 45, 34, 33, 12, 2345, 24, 11, 23, 3456, 213, 3]\n",
      "213 [1, 2, 4, 56, 786, 898, 5, 897, 9, 45, 34, 33, 12, 2345, 24, 11, 23, 3456, 213, 3]\n",
      "3 [1, 2, 4, 56, 786, 898, 5, 897, 9, 45, 34, 33, 12, 2345, 24, 11, 23, 3456, 213, 3]\n"
     ]
    }
   ],
   "source": [
    "for i in a:\n",
    "    print(i, a)"
   ]
  },
  {
   "cell_type": "code",
   "execution_count": 10,
   "metadata": {
    "collapsed": true
   },
   "outputs": [
    {
     "data": {
      "text/plain": [
       "[1,\n",
       " 2,\n",
       " 3,\n",
       " 4,\n",
       " 5,\n",
       " 9,\n",
       " 11,\n",
       " 12,\n",
       " 23,\n",
       " 24,\n",
       " 33,\n",
       " 34,\n",
       " 45,\n",
       " 56,\n",
       " 213,\n",
       " 786,\n",
       " 897,\n",
       " 898,\n",
       " 2345,\n",
       " 3456]"
      ]
     },
     "execution_count": 10,
     "metadata": {},
     "output_type": "execute_result"
    }
   ],
   "source": [
    "sorted(a)"
   ]
  },
  {
   "cell_type": "code",
   "execution_count": 14,
   "metadata": {
    "collapsed": true
   },
   "outputs": [
    {
     "name": "stdout",
     "output_type": "stream",
     "text": [
      "奇数： 1\n",
      "偶数： 2\n",
      "偶数： 4\n",
      "偶数： 56\n",
      "偶数： 786\n",
      "偶数： 898\n",
      "奇数： 5\n",
      "奇数： 897\n",
      "奇数： 9\n",
      "奇数： 45\n",
      "偶数： 34\n",
      "奇数： 33\n",
      "偶数： 12\n",
      "奇数： 2345\n",
      "偶数： 24\n",
      "奇数： 11\n",
      "奇数： 23\n",
      "偶数： 3456\n",
      "奇数： 213\n",
      "奇数： 3\n"
     ]
    }
   ],
   "source": [
    "for i in a:\n",
    "    if i % 2 == 1:\n",
    "        print(\"奇数：\", i)\n",
    "    else:\n",
    "        print(\"偶数：\", i)"
   ]
  },
  {
   "cell_type": "markdown",
   "metadata": {},
   "source": [
    "## 批量生成列表数字：range([起始，]结尾，[规律])"
   ]
  },
  {
   "cell_type": "code",
   "execution_count": 15,
   "metadata": {},
   "outputs": [
    {
     "data": {
      "text/plain": [
       "range(0, 10)"
      ]
     },
     "execution_count": 15,
     "metadata": {},
     "output_type": "execute_result"
    }
   ],
   "source": [
    "range(10)"
   ]
  },
  {
   "cell_type": "code",
   "execution_count": 16,
   "metadata": {},
   "outputs": [
    {
     "data": {
      "text/plain": [
       "[0, 1, 2, 3, 4, 5, 6, 7, 8, 9]"
      ]
     },
     "execution_count": 16,
     "metadata": {},
     "output_type": "execute_result"
    }
   ],
   "source": [
    "list(range(10))"
   ]
  },
  {
   "cell_type": "code",
   "execution_count": 17,
   "metadata": {},
   "outputs": [
    {
     "data": {
      "text/plain": [
       "[0, 1, 2, 3, 4, 5, 6, 7, 8, 9]"
      ]
     },
     "execution_count": 17,
     "metadata": {},
     "output_type": "execute_result"
    }
   ],
   "source": [
    "list(range(0,10))"
   ]
  },
  {
   "cell_type": "code",
   "execution_count": 18,
   "metadata": {},
   "outputs": [
    {
     "data": {
      "text/plain": [
       "(0, 1, 2, 3, 4, 5, 6, 7, 8, 9)"
      ]
     },
     "execution_count": 18,
     "metadata": {},
     "output_type": "execute_result"
    }
   ],
   "source": [
    "tuple(range(10))"
   ]
  },
  {
   "cell_type": "code",
   "execution_count": 19,
   "metadata": {
    "collapsed": true
   },
   "outputs": [
    {
     "name": "stdout",
     "output_type": "stream",
     "text": [
      "0\n",
      "1\n",
      "2\n",
      "3\n",
      "4\n",
      "5\n",
      "6\n",
      "7\n",
      "8\n",
      "9\n"
     ]
    }
   ],
   "source": [
    "for i in range(0,10):\n",
    "    print(i)"
   ]
  },
  {
   "cell_type": "code",
   "execution_count": 20,
   "metadata": {},
   "outputs": [
    {
     "data": {
      "text/plain": [
       "[0, 1, 2, 3, 4, 5, 6, 7, 8, 9, 10, 11, 12, 13, 14, 15, 16, 17, 18, 19]"
      ]
     },
     "execution_count": 20,
     "metadata": {},
     "output_type": "execute_result"
    }
   ],
   "source": [
    "list(range(0,20))"
   ]
  },
  {
   "cell_type": "code",
   "execution_count": 21,
   "metadata": {},
   "outputs": [
    {
     "data": {
      "text/plain": [
       "[0, 2, 4, 6, 8, 10, 12, 14, 16, 18]"
      ]
     },
     "execution_count": 21,
     "metadata": {},
     "output_type": "execute_result"
    }
   ],
   "source": [
    "list(range(0,20,2))"
   ]
  },
  {
   "cell_type": "code",
   "execution_count": 23,
   "metadata": {},
   "outputs": [
    {
     "data": {
      "text/plain": [
       "[20, 18, 16, 14, 12, 10, 8, 6, 4, 2]"
      ]
     },
     "execution_count": 23,
     "metadata": {},
     "output_type": "execute_result"
    }
   ],
   "source": [
    "list(range(20,0,-2))"
   ]
  },
  {
   "cell_type": "markdown",
   "metadata": {},
   "source": [
    "## for循环读取range()操作的值"
   ]
  },
  {
   "cell_type": "code",
   "execution_count": 24,
   "metadata": {},
   "outputs": [
    {
     "name": "stdout",
     "output_type": "stream",
     "text": [
      "[1, 4, 7, 10, 13, 16, 19, 22, 25, 28, 31, 34, 37, 40, 43, 46, 49, 52, 55, 58, 61, 64, 67, 70, 73, 76, 79, 82, 85, 88, 91, 94, 97]\n"
     ]
    }
   ],
   "source": [
    "res = []\n",
    "for i in range(0,100):\n",
    "    if i % 3 == 1:\n",
    "        res.append(i)\n",
    "print(res)"
   ]
  },
  {
   "cell_type": "code",
   "execution_count": null,
   "metadata": {
    "collapsed": true
   },
   "outputs": [],
   "source": []
  }
 ],
 "metadata": {
  "kernelspec": {
   "display_name": "Python 3",
   "language": "python",
   "name": "python3"
  },
  "language_info": {
   "codemirror_mode": {
    "name": "ipython",
    "version": 3
   },
   "file_extension": ".py",
   "mimetype": "text/x-python",
   "name": "python",
   "nbconvert_exporter": "python",
   "pygments_lexer": "ipython3",
   "version": "3.6.3"
  }
 },
 "nbformat": 4,
 "nbformat_minor": 2
}
