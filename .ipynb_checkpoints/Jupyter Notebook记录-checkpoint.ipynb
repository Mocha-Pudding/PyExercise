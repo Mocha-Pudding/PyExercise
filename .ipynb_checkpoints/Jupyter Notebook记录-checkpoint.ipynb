{
 "cells": [
  {
   "cell_type": "code",
   "execution_count": null,
   "metadata": {
    "collapsed": true
   },
   "outputs": [],
   "source": [
    "# Jupyter Notebook是一款交互式的编程与展示的web工具。可以支持多种开发语言。\n",
    "# 类似一个在线Python运行平台"
   ]
  },
  {
   "cell_type": "code",
   "execution_count": null,
   "metadata": {
    "collapsed": true
   },
   "outputs": [],
   "source": [
    "# File中包含创建以及重命名脚本文件等常用功能\n",
    "# Edit 主要是集中在对内容区中的cell的操作\n",
    "# view视图用于设置显示或者隐藏toolbar以及设置cell的一些相关的视图属性\n",
    "# insert纯粹对cell进行操作，上方或者下方插入cell单元\n",
    "# cell主要是运行cell的操作，比如运行所有的cell单元，运行某一个cell单元或者是清空cell单元的所有的内容\n",
    "# kernel 功能主要是重启核或者是切换核，jupyter notebooke不仅仅可用于python的展示，也可以切换为其他的语言核进行其他语言代码编辑与运行展示\n",
    "# help中即是包含了jupyter notebook 的所有操作的帮助提示，非常有用。"
   ]
  },
  {
   "cell_type": "code",
   "execution_count": null,
   "metadata": {
    "collapsed": true
   },
   "outputs": [],
   "source": [
    "# 什么是cell？\n",
    "# cell表示一个块，对于程序单元每一次点击工具栏上的Run的button，就会执行鼠标所在的cell然后显示出结果\n",
    "# 当然也可以选择一次性运行所有的cell 通过Cell->run all 实现"
   ]
  },
  {
   "cell_type": "code",
   "execution_count": null,
   "metadata": {
    "collapsed": true
   },
   "outputs": [],
   "source": [
    "# 暂时你只需要先知道这些常用快捷键 ：\n",
    "# Enter : 转入编辑模式\n",
    "# Shift-Enter : 运行本单元，选中下个单元\n",
    "# Ctrl-Enter : 运行本单元"
   ]
  },
  {
   "cell_type": "markdown",
   "metadata": {},
   "source": [
    "# 修改Jupyter Notebook的默认打开目录\n",
    "\n",
    "Jupyter启动之后默认打开的是C盘目录   \n",
    "想要打开其他盘符的文件无法实现，如D、E、F盘目录下的文件。现有解决办法如下，无需修改Jupyter Notebook的默认打开路径。   \n",
    "[思路]在CMD模式中打开需要打开的目录，然后打开Jupyter Notebook   \n",
    "   \n",
    "具体操作如下：\n",
    "\n",
    "win + R 进入CMD模式，在cmd窗口中输入下面代码即可打开 E盘下的OpenTry文件夹   \n",
    "cd /d E:\\OpenTry   \n",
    "jupyter notebook   \n",
    "jupyter启动目录就变成了 OpenTry   \n",
    "\n",
    "如果需要打开其他盘符的其他目录，只需要将上面代码中加粗的 E:\\OpenTry 改为所需要的位置，如：D:\\soft\\OpenCV   "
   ]
  },
  {
   "cell_type": "code",
   "execution_count": null,
   "metadata": {
    "collapsed": true
   },
   "outputs": [],
   "source": []
  },
  {
   "cell_type": "markdown",
   "metadata": {
    "collapsed": true
   },
   "source": [
    "运行终端 启动jupyter notebook后，需要从终端退出，需要同时按下ctrl + C键即可。"
   ]
  }
 ],
 "metadata": {
  "kernelspec": {
   "display_name": "Python 3",
   "language": "python",
   "name": "python3"
  },
  "language_info": {
   "codemirror_mode": {
    "name": "ipython",
    "version": 3
   },
   "file_extension": ".py",
   "mimetype": "text/x-python",
   "name": "python",
   "nbconvert_exporter": "python",
   "pygments_lexer": "ipython3",
   "version": "3.6.3"
  }
 },
 "nbformat": 4,
 "nbformat_minor": 2
}
