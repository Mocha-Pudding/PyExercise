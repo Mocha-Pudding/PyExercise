{
 "cells": [
  {
   "cell_type": "markdown",
   "metadata": {},
   "source": [
    "# 算法集合\n",
    "\n",
    "1.插入排序  \n",
    "2."
   ]
  },
  {
   "cell_type": "markdown",
   "metadata": {},
   "source": [
    "# 1.插入排序\n",
    "定义函数，接收数字列表，利用插入排序算法，对列表的数值，进行从小到大排序\n",
    "\n",
    "## 2 4 1 7 3 8 5 9 6\n",
    "\n",
    "    分组： 2 - 4 1 7 3 8 5 9 6   \n",
    "         2 4 - 1 7 3 8 5 9 6   \n",
    "         1 2 4 - 7 3 8 5 9 6   \n",
    "         1 2 4 7 - 3 8 5 9 6  \n",
    "         1 2 3 4 7 - 8 5 9 6\n",
    "         1 2 3 4 7 8 - 5 9 6\n",
    "         1 2 3 4 5 7 8 - 9 6\n",
    "         1 2 3 4 5 7 8 9 - 6\n",
    "         1 2 3 4 5 6 7 8 9 - \n",
    "     "
   ]
  },
  {
   "cell_type": "code",
   "execution_count": null,
   "metadata": {
    "collapsed": true
   },
   "outputs": [],
   "source": [
    "def insert_sorted(s):\n",
    "    for i in range(1, len(s)):\n",
    "        temp = s[1]\n",
    "        j = i\n",
    "        while"
   ]
  }
 ],
 "metadata": {
  "kernelspec": {
   "display_name": "Python 3",
   "language": "python",
   "name": "python3"
  },
  "language_info": {
   "codemirror_mode": {
    "name": "ipython",
    "version": 3
   },
   "file_extension": ".py",
   "mimetype": "text/x-python",
   "name": "python",
   "nbconvert_exporter": "python",
   "pygments_lexer": "ipython3",
   "version": "3.6.3"
  }
 },
 "nbformat": 4,
 "nbformat_minor": 2
}
